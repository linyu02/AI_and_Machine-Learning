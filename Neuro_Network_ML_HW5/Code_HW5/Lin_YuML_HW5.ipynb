{
 "cells": [
  {
   "cell_type": "code",
   "execution_count": 1,
   "metadata": {
    "id": "zgdC18T9wxTf"
   },
   "outputs": [],
   "source": [
    "# Import necessary libraries\n",
    "import torch\n",
    "import torch.nn as nn\n",
    "import torch.optim as optim\n",
    "from torch.utils.data import DataLoader, Dataset\n",
    "from google.colab import drive\n",
    "import pandas as pd"
   ]
  },
  {
   "cell_type": "code",
   "execution_count": 2,
   "metadata": {
    "colab": {
     "base_uri": "https://localhost:8080/"
    },
    "id": "ygnsUCYnyM2k",
    "outputId": "fbc29d33-c882-4b2b-8587-31f377b314a2"
   },
   "outputs": [
    {
     "name": "stdout",
     "output_type": "stream",
     "text": [
      "Drive already mounted at /content/drive; to attempt to forcibly remount, call drive.mount(\"/content/drive\", force_remount=True).\n",
      "Data loaded successfully.\n"
     ]
    }
   ],
   "source": [
    "#Load and Preprocess Data\n",
    "from google.colab import drive\n",
    "import pandas as pd\n",
    "\n",
    "# Mount Google Drive\n",
    "drive.mount('/content/drive')\n",
    "\n",
    "# Load data\n",
    "\n",
    "dev_data = pd.read_csv('/content/drive/MyDrive/Colab Notebooks/ML_HW5_LinYu/bobsue.seq2seq.dev.tsv', sep='\\t', header=None)\n",
    "test_data = pd.read_csv('/content/drive/MyDrive/Colab Notebooks/ML_HW5_LinYu/bobsue.seq2seq.test.tsv', sep='\\t', header=None)\n",
    "train_data = pd.read_csv('/content/drive/MyDrive/Colab Notebooks/ML_HW5_LinYu/bobsue.seq2seq.train.tsv', sep='\\t', header=None)\n",
    "\n",
    "print(\"Data loaded successfully.\")\n"
   ]
  },
  {
   "cell_type": "code",
   "execution_count": 3,
   "metadata": {
    "colab": {
     "base_uri": "https://localhost:8080/"
    },
    "id": "kdm36PqL7c2-",
    "outputId": "10430b35-4ceb-460a-957f-4efcf80972d1"
   },
   "outputs": [
    {
     "name": "stdout",
     "output_type": "stream",
     "text": [
      "['<s>', '</s>', '.', 'to', 'Bob', 'the', 'was', 'Sue', 'a', 'her', 'and', 'his', 'He', 'he', ',', 'had', 'She', 'she', 'for', 'in', 'it', 'of', \"'s\", \"'t\", 'on', 'at', 'day', 'wanted', 'him', 'decided', 'out', 'with', 'up', 'went', 'that', 'got', 'go', 'new', 'The', 'home', 'friends', 'very', 'school', 'one', 'didn', 'not', 'all', 'get', 'they', 'but', 'His', 'friend', 'time', 'would', 'They', 'so', 'were', 'When', 'work', 'Her', 'asked', 'dog', 'car', 'house', 'from', 'told', 'But', '!', 'mom', 'could', 'loved', 'One', 'store', 'It', 'mother', 'be', 'have', 'took', 'them', 'about', 'as', 'found', 'did', 'first', 'money', 'needed', 'night', 'play', 'bought', 'going', 'an', 'job', 'there', 'saw', 'back', 'parents', 'game', 'buy', 'when', 'never', 'over', 'been', 'into', 'really', 'made', 'couldn', 'some', 'class', 'see', 'too', 'said', 'what', 'no', 'good', 'came', 'family', 'do', 'is', 'dad', 'take', 'started', 'phone', 'down', 'called', 'always', 'how', 'happy', 'thought', 'find', 'next', 'hard', 'ran', 'felt', 'looked', 'much', 'before', 'left', 'late', 'every', 'after', 'just', 'party', 'dinner', 'walked', 'off', 'make', 'playing', 'nervous', 'excited', 'room', 'tried', 'knew', 'has', 'morning', 'away', 'because', 'know', 'realized', 'if', 'After', 'lost', 'like', 'their', 'lot', 'long', 'help', 'put', 'eat', 'more', 'by', 'wasn', 'teacher', 'bike', 'team', 'hours', 'liked', 'week', 'want', 'date', 'park', 'great', 'best', 'cat', 'began', 'around', 'sick', 'outside', 'brother', 'upset', 'played', 'gave', 'I', 'girl', 'getting', 'big', 'walk', 'this', 'test', 'kids', 'walking', 'So', 'food', 'old', 'However', 'then', 'something', 'birthday', 'only', 'sat', 'again', 'way', 'fell', 'drove', 'lunch', 'invited', 'having', 'sad', 'girlfriend', 'woke', 'sister', 'movie', 'father', 'broke', 'bed', 'worked', 'noticed', 'man', 'fun', 'well', 'town', 'Christmas', 'arrived', 'trip', 'hungry', 'better', 'ate', 'A', 'watch', 'together', 'other', 'favorite', 'two', 'picked', 'driving', 'And', 'wife', 'tired', 'scared', 'looking', 'boss', 'became', 'spent', 'own', 'hated', 'grandma', 'ended', 'basketball', 'There', 'shopping', 'pet', 'enough', 'year', 'ready', 'book', 'being', 'baby', 'met', 'bus', 'alone', 'Then', 'few', 'door', 'At', 'many', 'college', 'bored', 'another', 'working', 'turned', 'ride', 'now', 'last', 'hadn', 'nice', 'hour', 'games', 'bad', 'ask', 'while', 'puppy', 'doctor', 'come', 'shoes', 'brought', 'ball', 'agreed', 'able', 'little', 'ice', 'who', 'soon', 'early', 'clothes', 'water', 'summer', 'let', 'eating', 'coffee', 'call', 'beach', 'sleep', 'running', 'later', 'finally', 'coming', 'boyfriend', 'until', 'try', 'practiced', 'grandmother', 'Finally', 'drive', 'wouldn', 'wait', 'tell', 'stop', 'mall', 'grocery', 'through', 'son', 'run', 'everyone', 'boy', 'where', 'tickets', 'pick', 'music', 'watching', 'surprise', 'himself', 'clean', 'won', 'stopped', 'restaurant', 'moved', 'idea', 'cake', 'offered', 'fast', 'dress', 'trying', 'stay', 'since', 'minutes', 'hot', 'hit', 'candy', 'people', 'leave', 'husband', 'today', 'street', 'right', 'pizza', 'neighbor', 'mad', 'inside', 'feeling', 'As', 'video', 'Unfortunately', 'Suddenly', 'quickly', 'instead', 'herself', 'start', 'someone', 'set', 'office', 'library', 'high', 'weeks', 'three', 'pay', 'On', 'kept', 'both', 'any', 'All', 'still', 'opened', 'learn', 'dance', 'cold', 'sure', 'pulled', 'move', 'give', 'done', 'talked', 'showed', 'show', 'road', 'months', 'look', 'football', 'fish', 'end', 'cream', 'can', 'afraid', 'perfect', 'meet', 'kitten', 'front', 'feel', 'bar', 'trouble', 'forgot', 'concert', 'care', 'Bobby', 'waited', 'TV', 'tree', 'read', 'named', 'gone', 'drink', 'anything', 'things', 'sitting', 'race', 'person', 'online', 'immediately', 'guitar', 'everyday', 'days', 'threw', 'than', 'soccer', 'snow', 'several', 'movies', 'making', 'gift', 'fishing', 'crush', 'computer', 'weekend', 'studied', 'quit', 'Now', 'name', 'missed', 'lonely', 'local', 'heard', 'fight', 'daughter', 'cookies', 'cook', 'baseball', 'yard', 'Today', 'same', 'refused', 'math', 'list', 'In', 'hair', 'everything', 'talking', 'stayed', 'should', 'shop', 'life', 'interview', 'gym', 'everywhere', 'else', 'doing', 'card', 'bag', 'problem', 'nothing', 'during', 'dogs', 'without', 'While', 'waiting', 'tire', 'though', 'suggested', 'small', 'seen', 'passed', 'yes', 'years', 'wrong', 'window', 'whole', 'place', 'pair', 'love', 'homework', 'guy', 'girls', 'enjoyed', 'truck', 'This', 'surprised', 'saved', 'lots', 'keep', 'ground', 'finish', 'company', 'change', 'caught', 'bring', 'brand', 'swim', 'studying', 'Sam', 'rushed', 'open', 'loves', 'kitchen', 'dropped', 'desk', 'deer', 'checked', 'anymore', 'tomorrow', 'suit', 'sandwich', 'pool', 'learned', 'laughed', 'hospital', 'Everyone', 'disappointed', 'chair', 'catch', 'break', 'asleep', 'angry', 'also', 'afternoon', 'why', 'visit', 'taking', 'returned', 'gas', 'books', 'apartment', 'wallet', 'vacation', 'toy', 'talk', 'table', 'shot', 'rest', 'month', 'lived', 'hurt', 'expensive', 'ever', 'chocolate', 'breakfast', 'begged', 'band', 'anyway', 'worried', 'watched', 'used', 'turn', 'ordered', 'horse', 'helped', 'grounded', 'Friday', 'floor', 'exam', 'Eventually', 'dentist', 'weight', 'wear', 'times', 'special', 'reading', 'pretty', 'pie', 'past', 'lose', 'light', 'kite', 'dressed', 'crying', 'behind', 'spend', 'sale', 'player', 'often', 'missing', 'married', 'lake', 'Every', 'dating', \"'d\", 'close', 'challenged', 'bully', 'attention', 'anyone', 'think', 'taken', 'swimming', 'study', 'student', 'shower', 'rode', 'relieved', 'proud', 'pregnant', 'meal', 'living', 'listen', 'kid', 'jumped', 'finished', 'face', 'each', 'check', 'busy', 'box', 'bake', 'almost', 'across', '3', 'zoo', 'woman', 'wants', 'song', 'side', 'picture', 'paid', 'near', 'manager', 'laptop', 'grades', 'gotten', 'gets', 'extra', 'eventually', 'doll', 'cut', 'alarm', '2', 'sweater', 'practice', 'neighborhood', 'moving', 'milk', 'me', 'keys', 'even', 'different', 'decides', 'couch', 'cooking', 'club', 'chores', 'business', 'boat', 'bird', 'train', 'terrible', 'short', 'police', 'owner', 'order', 'my', 'longer', 'line', 'lessons', 'grabbed', 'garage', 'forward', 'due', 'cleaning', 'already', 'afford', 'accepted', 'trash', 'Tami', 'slept', 'shy', 'shirt', 'riding', 'recently', 'received', 'most', 'furious', 'far', 'entire', 'dishes', 'cute', 'closed', 'bathroom', 'afterwards', '5', '20', 'Year', 'write', 'wonderful', 'spilled', 'sit', 'searched', 'Saturday', 'purchased', 'prom', 'presents', 'or', 'note', 'news', 'grandpa', 'fired', 'fire', 'broken', '10', '$', 'ticket', 'throw', 'station', 'sleeping', 'shelter', 'principal', 'planned', 'mess', 'meeting', 'mean', 'large', 'Jay', 'huge', 'goes', 'five', 'evening', 'eggs', 'closet', 'cereal', 'wrote', 'wore', 'win', 'tonight', 'starting', 'sent', 'sand', 'ring', 'poor', 'older', 'half', 'grew', 'flowers', 'eye', 'cry', 'cried', 'cool', 'contest', 'city', 'child', 'black', 'beer', 'asking', 'yesterday', 'winter', 'use', 'traffic', 'To', 'television', 'supposed', 'sudden', 'stood', 'Santa', 'red', 'quiet', 'porch', 'planning', 'paint', 'No', 'listening', 'leaving', 'ingredients', 'highway', 'head', 'happily', 'grandparents', 'full', 'farm', 'doesn', 'cup', 'confident', 'chess', 'cats', 'barely', 'are', 'animals', 'young', 'yelled', 'Tina', 'teach', 'suddenly', 'story', 'sports', 'speeding', 'speak', 'soup', 'sold', 'skating', 'single', 'seat', 'return', 'report', 'rain', 'pocket', 'pictures', 'panicked', 'middle', 'loud', 'locked', 'leash', 'join', 'fridge', 'free', 'essay', 'drinking', 'coat', 'coach', 'cleaned', 'beat', 'apologized', 'air', 'Years', 'vet', 'That', 'tennis', 'stomach', 'stole', 'second', 'save', 'safe', 'remembered', 'recipe', 'quite', 'putting', 'purchase', 'promised', 'neighbors', 'losing', 'lady', 'kicked', 'important', 'hand', 'glasses', 'fix', 'fancy', 'failed', 'entered', 'embarrassed', 'dollars', 'diet', 'dark', 'couple', 'children', 'bit', 'believe', 'apple', 'along', 'usually', 'swing', 'stuff', 'strange', 'steak', 'Soon', 'Since', 'say', 'project', 'paying', 'part', 'number', 'miss', 'mirror', 'joined', 'hat', 'happened', 'groceries', 'gathered', 'forgotten', 'fly', 'flew', 'fit', 'enjoy', 'drank', 'discovered', 'died', 'cousin', 'competition', 'classes', 'church', 'Chris', 'cell', 'camping', 'beautiful', 'wine', 'weren', 'wedding', 'uncle', 'track', 'towards', 'telling', 'socks', 'sign', 'poured', 'piano', 'pass', 'none', 'noise', 'need', 'loose', 'leg', 'laundry', 'landed', 'knocked', 'handed', 'group', 'funny', 'forced', 'flat', 'field', 'extremely', 'drinks', 'decide', 'dead', 'cop', 'cooked', 'confused', 'climbed', 'cashier', 'boys', 'bowl', 'boring', 'bear', 'accidentally', 'wondered', 'will', 'white', 'We', 'warm', 'under', 'top', 'theater', 'Thanksgiving', 'ten', 'supplies', 'staying', 'slipped', 'seeing', 'present', 'prepared', 'plans', 'notice', 'May', 'makeup', 'mail', 'lights', 'less', 'Later', 'hoping', 'headed', 'hates', 'glass', 'fixed', 'feed', 'chips', 'changed', 'build', 'backyard', 'assignment', 'approached', 'answer', 'allowed', 'writing', 'woods', 'which', 'weird', 'wearing', 'wash', 'thrilled', 'Sunday', 'share', 'scary', 'saving', 'pushed', 'piece', 'picnic', 'pain', 'My', 'Luckily', 'homeless', 'headphones', 'Halloween', 'glad', 'given', 'fruit', 'four', 'feet', 'During', 'delicious', 'classroom', 'building', 'bread', 'block', 'bills', 'art', 'appointment', 'annoyed', 'yet', 'worth', 'weather', 'understand', 'tripped', 'throwing', 'thing', 'thanked', 'stuck', 'stories', 'star', 'spoke', 'signed', 'sidewalk', 'shocked', 'rock', 'result', 'proposed', 'popular', 'plane', 'painting', 'once', 'needs', 'miles', 'jump', 'insisted', 'impressed', 'horses', 'holiday', 'hiking', 'hang', 'grateful', 'graduated', 'grade', 'For', 'fence', 'falling', 'empty', 'drunk', 'determined', 'dancing', 'credit', 'complained', 'color', 'camp', 'buying', 'burger', 'boots', 'blue', 'bite', 'bench', 'applied', 'apples', 'accident', 'using', 'tutor', 'tournament', 'thinking', 'straight', 'smell', 'slow', 'raise', 'rainy', 'radio', 'purse', 'pull', 'parking', 'might', 'match', 'market', 'likes', 'however', 'hoped', 'hands', 'grass', 'gifts', 'fought', 'following', 'figure', 'explained', 'costume', 'clock', 'cheese', 'chased', 'chance', 'cars', 'bottle', 'become', 'badly', 'advice', '30', \"'\", 'works', 'we', 'visiting', 'twenty', 'turkey', 'toys', 'tooth', 'Their', 'tank', 'tall', 'sun', 'stepped', 'spot', 'smiled', 'smelled', 'seemed', 'screen', 'rude', 'roommate', 'offer', 'ocean', 'nowhere', 'medicine', 'listened', 'Last', 'kind', 'jealous', 'heart', 'haircut', 'green', 'fall', 'exercise', 'eaten', 'easy', 'earlier', 'driver', 'dollar', 'cruise', 'coworker', 'country', 'convinced', 'carefully', 'careful', 'burned', 'board', 'baking', 'arm', 'answered', 'addition', '4', 'York', 'women', 'wished', 'walks', 'wake', 'unable', 'turns', 'travel', 'tasted', 'sugar', 'storm', 'siblings', 'shape', 'realizes', 'reached', 'rang', 'question', 'practicing', 'possible', 'pond', 'oven', 'Once', 'New', 'nearby', 'must', 'mind', 'lives', 'Little', 'letter', 'laid', 'joke', 'hunting', 'holding', 'hike', 'hear', 'grandfather', 'garden', 'fine', 'final', 'faster', 'fair', 'dream', 'does', 'dirt', 'department', 'coworkers', 'counter', 'corner', 'continued', 'chose', 'choice', 'calls', 'bill', 'bedroom', 'basement', 'bank', 'backpack', 'attended', 'artist', 'amazing', 'Although', 'worker', 'wet', 'warned', 'visited', 'teeth', 'stores', 'speed', 'soda', 'screamed', 'science', 'salad', 'punched', 'professional', 'pieces', 'paper', 'pants', 'owned', 'officer', 'minute', 'mechanic', 'interested', 'hold', 'hill', 'grow', 'golf', 'giving', 'furniture', 'frustrated', 'finds', 'fighting', 'feels', 'feared', 'expected', 'English', 'driveway', 'crowd', 'climb', 'classmates', 'chicken', 'basket', 'ahead', 'Afterwards', 'actually', 'videos', 'tea', 'stared', 'spotted', 'sound', 'six', 'season', 'scheduled', 'rent', 'point', 'plate', 'painted', 'ones', 'learning', 'knows', 'knee', 'key', 'jobs', 'Jamie', 'items', 'internet', 'ignored', 'hung', 'hundred', 'hole', 'hired', 'hide', 'held', 'garbage', 'followed', 'fed', 'drew', 'dreamed', 'draw', 'dirty', 'customer', 'crashed', 'control', 'choose', 'awoke', 'ankle', '1', 'world', 'winning', 'washing', 'vowed', 'trained', 'tells', 'taste', 'state', 'starts', 'squirrel', 'snake', 'service', 'saying', 'sales', 'rocks', 'rice', 'repair', 'remember', 'record', 'real', 'pounds', 'pleased', 'plant', 'plan', 'pink', 'packed', 'others', 'okay', 'mountain', 'men', 'low', 'live', 'Instead', 'informed', 'history', 'hid', 'filled', 'eyes', 'event', 'Even', 'enter', 'daily', 'course', 'community', 'cheating', 'center', 'By', 'birds', 'Before', '100', 'you', 'wind', 'vegetables', 'trick', 'training', 'stand', 'smoking', 'slowly', 'selling', 'sell', 'score', 'ruined', 'recommended', 'questions', 'prize', 'power', 'onto', 'nose', 'meant', 'matter', 'managed', 'machine', 'lucky', 'lesson', 'legs', 'killed', 'jail', 'instructor', 'fresh', 'flying', 'fan', 'dish', 'covered', 'complete', 'comfortable', 'cheap', 'carried', 'cards', 'bet', 'attend', 'arrested', 'area', 'animal', 'amazed', '8', '50', '\"', 'With', 'thinks', 'surgery', 'such', 'strong', 'secret', 'research', 'problems', 'prepare', 'plays', 'mouth', 'loudly', 'looks', 'Just', 'hotel', 'flight', 'famous', 'dry', 'difficult', 'deep', 'cost', 'case', 'career', 'camera', 'calm', 'bunch', 'between', 'bags', 'An', 'against', 'website', 'successful', 'students', 'stairs', 'stage', 'skills', 'size', 'sauce', 'planted', 'placed', 'moment', 'leaves', 'improve', 'healthy', 'growing', 'Facebook', 'customers', 'co-worker', 'calling', 'butter', 'aunt', 'ago', 'wall', 'those', 'taught', 'takes', 'our', 'nearly', 'makes', 'lawn', 'foot', 'experience', 'decision', 'deal', 'caused', 'cash', 'buys', 'body', 'announced', 'wood', 'trees', 'sky', 'price', 'position', 'its', 'gun', 'fear', '6', 'tour', 'tied', 'tape', 'photo', 'goal', 'built', 'becoming']\n"
     ]
    }
   ],
   "source": [
    "# Read the vocabulary file into a list\n",
    "vocab = []\n",
    "with open('/content/drive/MyDrive/Colab Notebooks/ML_HW5_LinYu/bobsue.voc.txt', 'r') as file:\n",
    "    for line in file:\n",
    "        vocab.append(line.strip())\n",
    "\n",
    "print(vocab)\n",
    "word_to_index = {word: i for i, word in enumerate(vocab)}\n",
    "index_to_word = {i: word for i, word in enumerate(vocab)}\n",
    "vocab_size = len(vocab)"
   ]
  },
  {
   "cell_type": "code",
   "execution_count": 4,
   "metadata": {
    "id": "wsBXlWj6aeLu"
   },
   "outputs": [],
   "source": [
    "from torch.utils.data import DataLoader, Dataset\n",
    "# Tokenize sentences and convert words to indices\n",
    "def tokenize(sentence):\n",
    "    return [word_to_index[word] if word in word_to_index else word_to_index['<UNK>'] for word in sentence.split()]\n",
    "\n",
    "class SentenceDataset(Dataset):\n",
    "    def __init__(self, dataframe):\n",
    "        self.data = dataframe.applymap(tokenize)\n",
    "\n",
    "    def __len__(self):\n",
    "        return len(self.data)\n",
    "\n",
    "    def __getitem__(self, idx):\n",
    "        return torch.tensor(self.data.iloc[idx, 0]), torch.tensor(self.data.iloc[idx, 1])\n",
    "\n",
    "train_dataset = SentenceDataset(train_data)\n",
    "train_loader = DataLoader(train_dataset, batch_size=1, shuffle=True)\n",
    "\n",
    "dev_dataset = SentenceDataset(dev_data)\n",
    "dev_loader = DataLoader(dev_dataset, batch_size=1, shuffle=False)\n",
    "\n",
    "test_dataset = SentenceDataset(test_data)\n",
    "test_loader = DataLoader(test_dataset, batch_size=1, shuffle=False)"
   ]
  },
  {
   "cell_type": "markdown",
   "metadata": {
    "id": "-NZXGO-32auV"
   },
   "source": [
    "# New Section"
   ]
  },
  {
   "cell_type": "markdown",
   "metadata": {
    "id": "jczTOMVjUqOH"
   },
   "source": [
    "Reference:https://colah.github.io/posts/2015-08-Understanding-LSTMs/"
   ]
  },
  {
   "cell_type": "code",
   "execution_count": 5,
   "metadata": {
    "id": "WcOhDUkviRRO"
   },
   "outputs": [],
   "source": [
    "\n",
    "class CustomLSTM(nn.Module):\n",
    "    def __init__(self, input_size, hidden_size, output_size):\n",
    "        super(CustomLSTM, self).__init__()\n",
    "        self.hidden_size = hidden_size\n",
    "\n",
    "        # Initialize weights and biases for the input gate\n",
    "        self.W_i = nn.Parameter(torch.randn(hidden_size, input_size + hidden_size))\n",
    "        self.b_i = nn.Parameter(torch.randn(hidden_size))\n",
    "\n",
    "        # Initialize weights and biases for the forget gate\n",
    "        self.W_f = nn.Parameter(torch.randn(hidden_size, input_size + hidden_size))\n",
    "        self.b_f = nn.Parameter(torch.randn(hidden_size))\n",
    "\n",
    "        # Initialize weights and biases for the cell state update\n",
    "        self.W_c = nn.Parameter(torch.randn(hidden_size, input_size + hidden_size))\n",
    "        self.b_c = nn.Parameter(torch.randn(hidden_size))\n",
    "\n",
    "        # Initialize weights and biases for the output gate\n",
    "        self.W_o = nn.Parameter(torch.randn(hidden_size, input_size + hidden_size))\n",
    "        self.b_o = nn.Parameter(torch.randn(hidden_size))\n",
    "\n",
    "        # Fully connected layer to map hidden state to output\n",
    "        self.fc = nn.Linear(hidden_size, output_size)\n",
    "\n",
    "    def forward(self, x, hidden, cell):\n",
    "        # Ensure hidden and cell states have the same dimension as input\n",
    "        if hidden.dim() == 2:\n",
    "            hidden = hidden.unsqueeze(0)\n",
    "        if cell.dim() == 2:\n",
    "            cell = cell.unsqueeze(0)\n",
    "\n",
    "        # Concatenate input and hidden state along the last dimension\n",
    "        combined = torch.cat((x, hidden), 2)\n",
    "\n",
    "        # Input gate: decides which values from input to update the cell state\n",
    "        i_t = torch.sigmoid(torch.matmul(combined, self.W_i.t()) + self.b_i)\n",
    "\n",
    "        # Forget gate: decides which part of the cell state to keep\n",
    "        f_t = torch.sigmoid(torch.matmul(combined, self.W_f.t()) + self.b_f)\n",
    "\n",
    "        # Output gate: decides which part of the cell state to output\n",
    "        o_t = torch.sigmoid(torch.matmul(combined, self.W_o.t()) + self.b_o)\n",
    "\n",
    "        # Candidate cell state: new cell state values to be added\n",
    "        c_tilde = torch.tanh(torch.matmul(combined, self.W_c.t()) + self.b_c)\n",
    "\n",
    "        # Update the cell state\n",
    "        cell = f_t * cell + i_t * c_tilde\n",
    "\n",
    "        # Compute the hidden state\n",
    "        hidden = o_t * torch.tanh(cell)\n",
    "\n",
    "        # Compute the output\n",
    "        output = self.fc(hidden)\n",
    "\n",
    "        return output, hidden, cell\n"
   ]
  },
  {
   "cell_type": "code",
   "execution_count": 6,
   "metadata": {
    "colab": {
     "base_uri": "https://localhost:8080/"
    },
    "id": "TeqaDuvXiZk7",
    "outputId": "22281342-c9eb-4ea1-feb0-99a6e8ea9a5d"
   },
   "outputs": [
    {
     "name": "stdout",
     "output_type": "stream",
     "text": [
      "Epoch 1, Loss: 8.92660713811992, Accuracy: 0.13843268368262251\n",
      "Epoch 2, Loss: 8.858110549001207, Accuracy: 0.14531517573187638\n",
      "Epoch 3, Loss: 8.843072453384133, Accuracy: 0.14679931501263965\n",
      "Epoch 4, Loss: 8.829176329831716, Accuracy: 0.14738644703579876\n",
      "Epoch 5, Loss: 8.811326242188414, Accuracy: 0.14968604745983854\n",
      "Epoch 6, Loss: 8.796891221587748, Accuracy: 0.15048519938024954\n",
      "Epoch 7, Loss: 8.781239560023296, Accuracy: 0.15322514882165864\n",
      "Epoch 8, Loss: 8.767430770073291, Accuracy: 0.1534697871646416\n",
      "Epoch 9, Loss: 8.751904478919988, Accuracy: 0.15286634591861697\n",
      "Epoch 10, Loss: 8.737389310888299, Accuracy: 0.15306205659300334\n"
     ]
    }
   ],
   "source": [
    "import torch\n",
    "import torch.nn as nn\n",
    "import torch.optim as optim\n",
    "\n",
    "def train(model, data_loader, num_epochs, learning_rate, embeddings, vocab_size):\n",
    "    criterion = nn.MSELoss()\n",
    "    optimizer = optim.Adam(model.parameters(), lr=learning_rate)\n",
    "\n",
    "    train_losses = []\n",
    "    train_accuracies = []\n",
    "\n",
    "    for epoch in range(num_epochs):\n",
    "        total_loss = 0\n",
    "        correct_predictions = 0\n",
    "        total_predictions = 0\n",
    "\n",
    "        for inputs, targets in data_loader:\n",
    "            hidden = torch.zeros(1, model.hidden_size)\n",
    "            cell = torch.zeros(1, model.hidden_size)\n",
    "\n",
    "            optimizer.zero_grad()\n",
    "\n",
    "            loss = 0\n",
    "            for input_idx, target_idx in zip(inputs[0], targets[0]):\n",
    "                input_vector = embeddings(input_idx).unsqueeze(0).unsqueeze(0)\n",
    "                target_vector = embeddings(target_idx).unsqueeze(0).unsqueeze(0)\n",
    "\n",
    "                output, hidden, cell = model(input_vector, hidden, cell)\n",
    "                loss += criterion(output, target_vector)\n",
    "\n",
    "                # Calculate accuracy\n",
    "                _, predicted_idx = torch.max(output, dim=2)\n",
    "                _, target_idx_max = torch.max(target_vector, dim=2)\n",
    "                correct_predictions += (predicted_idx == target_idx_max).sum().item()\n",
    "                total_predictions += target_idx_max.nelement()\n",
    "\n",
    "            loss.backward()\n",
    "            optimizer.step()\n",
    "\n",
    "            total_loss += loss.item()\n",
    "\n",
    "        avg_loss = total_loss / len(data_loader)\n",
    "        accuracy = correct_predictions / total_predictions\n",
    "\n",
    "        train_losses.append(avg_loss)\n",
    "        train_accuracies.append(accuracy)\n",
    "\n",
    "        print(f'Epoch {epoch+1}, Loss: {avg_loss}, Accuracy: {accuracy}')\n",
    "\n",
    "    return train_losses, train_accuracies\n",
    "\n",
    "# Assuming CustomLSTM is defined somewhere and train_loader is available\n",
    "embedding_dim = 200\n",
    "embeddings = nn.Embedding(vocab_size, embedding_dim)\n",
    "\n",
    "input_size = embedding_dim\n",
    "hidden_size = 200\n",
    "output_size = embedding_dim\n",
    "\n",
    "model = CustomLSTM(input_size, hidden_size, output_size)\n",
    "train_losses, train_accuracies = train(model, train_loader, num_epochs=10, learning_rate=0.001, embeddings=embeddings, vocab_size=vocab_size)\n"
   ]
  },
  {
   "cell_type": "code",
   "execution_count": 9,
   "metadata": {
    "colab": {
     "base_uri": "https://localhost:8080/",
     "height": 406
    },
    "id": "G2Eqmngj9EwR",
    "outputId": "25136982-5d03-4954-cff9-61d485ea7a03"
   },
   "outputs": [
    {
     "data": {
      "image/png": "[encoded data removed]",
      "text/plain": [
       "<Figure size 1200x400 with 2 Axes>"
      ]
     },
     "metadata": {},
     "output_type": "display_data"
    }
   ],
   "source": [
    "import matplotlib.pyplot as plt\n",
    "# Plot the training loss and training accuracy\n",
    "plt.figure(figsize=(12, 4))\n",
    "plt.subplot(1, 2, 1)\n",
    "plt.plot(train_losses, label='Training Loss')\n",
    "plt.xlabel('Epoch')\n",
    "plt.ylabel('Loss')\n",
    "plt.legend()\n",
    "\n",
    "plt.subplot(1, 2, 2)\n",
    "plt.plot(train_accuracies, label='Training Accuracy')\n",
    "plt.xlabel('Epoch')\n",
    "plt.ylabel('Accuracy')\n",
    "plt.legend()\n",
    "\n",
    "plt.tight_layout()\n",
    "plt.show()"
   ]
  },
  {
   "cell_type": "code",
   "execution_count": 20,
   "metadata": {
    "colab": {
     "base_uri": "https://localhost:8080/"
    },
    "id": "bPZ3PNua_y-X",
    "outputId": "6f2eeb03-2d4e-4f6f-f757-dee16ccfb638"
   },
   "outputs": [
    {
     "name": "stdout",
     "output_type": "stream",
     "text": [
      "Average Loss: 89.37202928543091, Accuracy: 0.006053428082642453\n"
     ]
    }
   ],
   "source": [
    "import torch\n",
    "import torch.nn as nn\n",
    "import torch.optim as optim\n",
    "\n",
    "# Initialize random embeddings\n",
    "embedding_weights = torch.rand(vocab_size, embedding_dim)\n",
    "# Set the random embeddings to the embedding layer\n",
    "embeddings.weight = nn.Parameter(embedding_weights)\n",
    "\n",
    "def evaluate(model, data_loader):\n",
    "    model.eval()\n",
    "    total_loss = 0\n",
    "    total_correct = 0\n",
    "    total_predictions = 0\n",
    "\n",
    "    with torch.no_grad():\n",
    "        for inputs, targets in data_loader:\n",
    "            # Initialize hidden and cell states with zeros\n",
    "            hidden = torch.zeros(1, model.hidden_size)\n",
    "            cell = torch.zeros(1, model.hidden_size)\n",
    "\n",
    "            loss = 0\n",
    "            correct_predictions = 0\n",
    "            total_predictions_batch = 0\n",
    "\n",
    "            sequence_length = inputs.size(1)\n",
    "            for i in range(sequence_length):\n",
    "                if i < targets.size(1):  # Ensure target index is within bounds\n",
    "                    # Convert input indices to embedding vectors\n",
    "                    input_vector = embeddings(inputs[:, i]).unsqueeze(1)\n",
    "                    # Convert target indices to embedding vectors\n",
    "                    target_vector = embeddings(targets[:, i]).unsqueeze(1)\n",
    "\n",
    "                    # Forward pass through the model\n",
    "                    output, hidden, cell = model(input_vector, hidden, cell)\n",
    "                    # Calculate the L2 norm loss between output and target\n",
    "                    loss += torch.norm(output - target_vector).item()\n",
    "\n",
    "                    # Calculate accuracy\n",
    "                    _, predicted_idx = torch.max(output, dim=2)\n",
    "                    _, target_idx = torch.max(target_vector, dim=2)\n",
    "                    correct_predictions += (predicted_idx == target_idx).sum().item()\n",
    "                    total_predictions_batch += target_idx.nelement()\n",
    "\n",
    "            # Accumulate the loss and accuracy for the current batch\n",
    "            total_loss += loss\n",
    "            total_correct += correct_predictions\n",
    "            total_predictions += total_predictions_batch\n",
    "\n",
    "    # Calculate and print the average loss and accuracy over the data loader\n",
    "    avg_loss = total_loss / len(data_loader)\n",
    "    accuracy = total_correct / total_predictions\n",
    "    print(f'Average Loss: {avg_loss}, Accuracy: {accuracy}')\n",
    "\n",
    "# Evaluate the model on the test data\n",
    "evaluate(model, test_loader)\n"
   ]
  },
  {
   "cell_type": "code",
   "execution_count": 21,
   "metadata": {
    "id": "I7MtSW59NS01"
   },
   "outputs": [],
   "source": [
    "import torch\n",
    "\n",
    "def generate_predictions(model, data_loader, output_file):\n",
    "    # Set the model to evaluation mode\n",
    "    model.eval()\n",
    "    predictions = []\n",
    "    with torch.no_grad():  # Disable gradient computation\n",
    "        for inputs, _ in data_loader:\n",
    "            # Initialize hidden and cell states with zeros\n",
    "            hidden = torch.zeros(1, model.hidden_size)\n",
    "            cell = torch.zeros(1, model.hidden_size)\n",
    "\n",
    "            sentence_prediction = []\n",
    "            # Iterate over the sequence length\n",
    "            for i in range(inputs.size(1)):\n",
    "                # Convert input indices to embedding vectors\n",
    "                input_vector = embeddings(inputs[:, i]).unsqueeze(1)\n",
    "                # Forward pass through the model\n",
    "                output, hidden, cell = model(input_vector, hidden, cell)\n",
    "\n",
    "                # Find the index of the word closest to the output vector\n",
    "                predicted_word_index = torch.argmin(torch.norm(embeddings.weight - output, dim=1)).item()\n",
    "                # Append the predicted word to the sentence prediction\n",
    "                sentence_prediction.append(index_to_word[predicted_word_index])\n",
    "\n",
    "            # Append the sentence prediction to the predictions list\n",
    "            predictions.append(\" \".join(sentence_prediction))\n",
    "\n",
    "    # Write predictions to the output file\n",
    "    with open(output_file, 'w') as f:\n",
    "        for prediction in predictions:\n",
    "            f.write(prediction + '\\n')\n",
    "\n",
    "# Generate predictions and save them to a file\n",
    "generate_predictions(model, test_loader, '/content/drive/MyDrive/Colab Notebooks/ML_HW5_LinYu/predictions.txt')\n"
   ]
  }
 ],
 "metadata": {
  "colab": {
   "provenance": []
  },
  "kernelspec": {
   "display_name": "Python 3 (ipykernel)",
   "language": "python",
   "name": "python3"
  },
  "language_info": {
   "codemirror_mode": {
    "name": "ipython",
    "version": 3
   },
   "file_extension": ".py",
   "mimetype": "text/x-python",
   "name": "python",
   "nbconvert_exporter": "python",
   "pygments_lexer": "ipython3",
   "version": "3.9.18"
  }
 },
 "nbformat": 4,
 "nbformat_minor": 1
}
